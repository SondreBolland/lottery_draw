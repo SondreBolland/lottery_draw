{
 "cells": [
  {
   "cell_type": "markdown",
   "metadata": {},
   "source": [
    "# Ticket Draw\n",
    "Lottery for Inkogvito training competition.\n",
    "\n",
    "Pick winner by a logarithmitically scaled probability distribution."
   ]
  },
  {
   "cell_type": "markdown",
   "metadata": {},
   "source": [
    "### Imports"
   ]
  },
  {
   "cell_type": "code",
   "execution_count": 87,
   "metadata": {},
   "outputs": [],
   "source": [
    "import pandas as pd\n",
    "import numpy as np\n",
    "import matplotlib.pyplot as plt\n",
    "import copy"
   ]
  },
  {
   "cell_type": "markdown",
   "metadata": {},
   "source": [
    "### Point distribution"
   ]
  },
  {
   "cell_type": "code",
   "execution_count": 79,
   "metadata": {},
   "outputs": [
    {
     "data": {
      "text/html": [
       "<div>\n",
       "<style scoped>\n",
       "    .dataframe tbody tr th:only-of-type {\n",
       "        vertical-align: middle;\n",
       "    }\n",
       "\n",
       "    .dataframe tbody tr th {\n",
       "        vertical-align: top;\n",
       "    }\n",
       "\n",
       "    .dataframe thead th {\n",
       "        text-align: right;\n",
       "    }\n",
       "</style>\n",
       "<table border=\"1\" class=\"dataframe\">\n",
       "  <thead>\n",
       "    <tr style=\"text-align: right;\">\n",
       "      <th></th>\n",
       "      <th>Unnamed: 0</th>\n",
       "      <th>Sondre Bolland</th>\n",
       "      <th>Rein Undheim</th>\n",
       "      <th>Thea Gjerde</th>\n",
       "      <th>Ragnhild Larsen</th>\n",
       "      <th>Henriette Rebnor</th>\n",
       "      <th>Beatrix Wu</th>\n",
       "      <th>Anton Nydal</th>\n",
       "      <th>Håkon Bleie</th>\n",
       "      <th>Oskar Jahr</th>\n",
       "      <th>Ingeborg Elly Skori-Holm</th>\n",
       "      <th>Sigurd Setså</th>\n",
       "      <th>Benjamin Øygarden</th>\n",
       "      <th>Bendik Micheeff</th>\n",
       "      <th>Vanessa Marie Haaland</th>\n",
       "      <th>Celine Langeland</th>\n",
       "      <th>Alexander Opdahl</th>\n",
       "      <th>Petter Paulsen</th>\n",
       "      <th>Anders Mikkelsen</th>\n",
       "      <th>Emma Bjørkås</th>\n",
       "    </tr>\n",
       "  </thead>\n",
       "  <tbody>\n",
       "    <tr>\n",
       "      <td>0</td>\n",
       "      <td>Januar</td>\n",
       "      <td>230</td>\n",
       "      <td>63.0</td>\n",
       "      <td>88.0</td>\n",
       "      <td>45,5</td>\n",
       "      <td>58.0</td>\n",
       "      <td>45,5</td>\n",
       "      <td>21.0</td>\n",
       "      <td>49.0</td>\n",
       "      <td>93.0</td>\n",
       "      <td>55</td>\n",
       "      <td>100</td>\n",
       "      <td>14</td>\n",
       "      <td>90.0</td>\n",
       "      <td>0.0</td>\n",
       "      <td>0.0</td>\n",
       "      <td>0.0</td>\n",
       "      <td>0.0</td>\n",
       "      <td>0.0</td>\n",
       "      <td>0.0</td>\n",
       "    </tr>\n",
       "    <tr>\n",
       "      <td>1</td>\n",
       "      <td>Feburar</td>\n",
       "      <td>255</td>\n",
       "      <td>14.0</td>\n",
       "      <td>71.0</td>\n",
       "      <td>71,5</td>\n",
       "      <td>30.0</td>\n",
       "      <td>151</td>\n",
       "      <td>0.0</td>\n",
       "      <td>4.0</td>\n",
       "      <td>60.0</td>\n",
       "      <td>125</td>\n",
       "      <td>81,5</td>\n",
       "      <td>20</td>\n",
       "      <td>0.0</td>\n",
       "      <td>50.0</td>\n",
       "      <td>38.0</td>\n",
       "      <td>0.0</td>\n",
       "      <td>0.0</td>\n",
       "      <td>0.0</td>\n",
       "      <td>0.0</td>\n",
       "    </tr>\n",
       "    <tr>\n",
       "      <td>2</td>\n",
       "      <td>Mars</td>\n",
       "      <td>321,5</td>\n",
       "      <td>0.0</td>\n",
       "      <td>99.0</td>\n",
       "      <td>104</td>\n",
       "      <td>0.0</td>\n",
       "      <td>156</td>\n",
       "      <td>0.0</td>\n",
       "      <td>0.0</td>\n",
       "      <td>7.0</td>\n",
       "      <td>147,5</td>\n",
       "      <td>106</td>\n",
       "      <td>49,5</td>\n",
       "      <td>118.0</td>\n",
       "      <td>117.0</td>\n",
       "      <td>0.0</td>\n",
       "      <td>85.0</td>\n",
       "      <td>83.0</td>\n",
       "      <td>29.0</td>\n",
       "      <td>22.0</td>\n",
       "    </tr>\n",
       "    <tr>\n",
       "      <td>3</td>\n",
       "      <td>April</td>\n",
       "      <td>NaN</td>\n",
       "      <td>NaN</td>\n",
       "      <td>NaN</td>\n",
       "      <td>NaN</td>\n",
       "      <td>NaN</td>\n",
       "      <td>NaN</td>\n",
       "      <td>NaN</td>\n",
       "      <td>NaN</td>\n",
       "      <td>NaN</td>\n",
       "      <td>NaN</td>\n",
       "      <td>NaN</td>\n",
       "      <td>NaN</td>\n",
       "      <td>NaN</td>\n",
       "      <td>NaN</td>\n",
       "      <td>NaN</td>\n",
       "      <td>NaN</td>\n",
       "      <td>NaN</td>\n",
       "      <td>NaN</td>\n",
       "      <td>NaN</td>\n",
       "    </tr>\n",
       "    <tr>\n",
       "      <td>4</td>\n",
       "      <td>Mai</td>\n",
       "      <td>NaN</td>\n",
       "      <td>NaN</td>\n",
       "      <td>NaN</td>\n",
       "      <td>NaN</td>\n",
       "      <td>NaN</td>\n",
       "      <td>NaN</td>\n",
       "      <td>NaN</td>\n",
       "      <td>NaN</td>\n",
       "      <td>NaN</td>\n",
       "      <td>NaN</td>\n",
       "      <td>NaN</td>\n",
       "      <td>NaN</td>\n",
       "      <td>NaN</td>\n",
       "      <td>NaN</td>\n",
       "      <td>NaN</td>\n",
       "      <td>NaN</td>\n",
       "      <td>NaN</td>\n",
       "      <td>NaN</td>\n",
       "      <td>NaN</td>\n",
       "    </tr>\n",
       "    <tr>\n",
       "      <td>5</td>\n",
       "      <td>Total</td>\n",
       "      <td>806,5</td>\n",
       "      <td>77.0</td>\n",
       "      <td>258.0</td>\n",
       "      <td>221</td>\n",
       "      <td>88.0</td>\n",
       "      <td>352,5</td>\n",
       "      <td>21.0</td>\n",
       "      <td>53.0</td>\n",
       "      <td>160.0</td>\n",
       "      <td>327,5</td>\n",
       "      <td>287,5</td>\n",
       "      <td>83,5</td>\n",
       "      <td>208.0</td>\n",
       "      <td>167.0</td>\n",
       "      <td>38.0</td>\n",
       "      <td>85.0</td>\n",
       "      <td>83.0</td>\n",
       "      <td>29.0</td>\n",
       "      <td>22.0</td>\n",
       "    </tr>\n",
       "  </tbody>\n",
       "</table>\n",
       "</div>"
      ],
      "text/plain": [
       "  Unnamed: 0 Sondre Bolland  Rein Undheim  Thea Gjerde Ragnhild Larsen  \\\n",
       "0     Januar            230          63.0         88.0            45,5   \n",
       "1    Feburar            255          14.0         71.0            71,5   \n",
       "2       Mars          321,5           0.0         99.0             104   \n",
       "3      April            NaN           NaN          NaN             NaN   \n",
       "4        Mai            NaN           NaN          NaN             NaN   \n",
       "5      Total          806,5          77.0        258.0             221   \n",
       "\n",
       "   Henriette Rebnor Beatrix Wu  Anton Nydal  Håkon Bleie  Oskar Jahr  \\\n",
       "0              58.0       45,5         21.0         49.0        93.0   \n",
       "1              30.0        151          0.0          4.0        60.0   \n",
       "2               0.0        156          0.0          0.0         7.0   \n",
       "3               NaN        NaN          NaN          NaN         NaN   \n",
       "4               NaN        NaN          NaN          NaN         NaN   \n",
       "5              88.0      352,5         21.0         53.0       160.0   \n",
       "\n",
       "  Ingeborg Elly Skori-Holm Sigurd Setså Benjamin Øygarden  Bendik Micheeff  \\\n",
       "0                       55          100                14             90.0   \n",
       "1                      125         81,5                20              0.0   \n",
       "2                    147,5          106              49,5            118.0   \n",
       "3                      NaN          NaN               NaN              NaN   \n",
       "4                      NaN          NaN               NaN              NaN   \n",
       "5                    327,5        287,5              83,5            208.0   \n",
       "\n",
       "   Vanessa Marie Haaland  Celine Langeland  Alexander Opdahl  Petter Paulsen  \\\n",
       "0                    0.0               0.0               0.0             0.0   \n",
       "1                   50.0              38.0               0.0             0.0   \n",
       "2                  117.0               0.0              85.0            83.0   \n",
       "3                    NaN               NaN               NaN             NaN   \n",
       "4                    NaN               NaN               NaN             NaN   \n",
       "5                  167.0              38.0              85.0            83.0   \n",
       "\n",
       "   Anders Mikkelsen  Emma Bjørkås  \n",
       "0               0.0           0.0  \n",
       "1               0.0           0.0  \n",
       "2              29.0          22.0  \n",
       "3               NaN           NaN  \n",
       "4               NaN           NaN  \n",
       "5              29.0          22.0  "
      ]
     },
     "execution_count": 79,
     "metadata": {},
     "output_type": "execute_result"
    }
   ],
   "source": [
    "dataframe = pd.read_csv('Poengfordeling.csv', delimiter=';')\n",
    "dataframe"
   ]
  },
  {
   "cell_type": "code",
   "execution_count": 110,
   "metadata": {},
   "outputs": [],
   "source": [
    "def scale_all_points(point_list):\n",
    "    ticket_list = []\n",
    "    for points in point_list:\n",
    "        scaled_points = scale_points(points)\n",
    "        ticket_list.append(scaled_points)\n",
    "    return ticket_list\n",
    "\n",
    "def scale_points(points):\n",
    "    '''\n",
    "    Calculates the number of tickets from number of points using a logarithmic scale\n",
    "    '''\n",
    "    tickets = log_func(points)\n",
    "    return tickets\n",
    "    \n",
    "def log_func(x):\n",
    "    return round(np.log10(x) * 100, 1)\n",
    "    \n",
    "def plot_tickets_and_points(name_list, point_list, ticket_list):\n",
    "    for i, name in enumerate(name_list):\n",
    "        x = point_list[i]\n",
    "        y = ticket_list[i]\n",
    "        plt.scatter(x, y, marker='x', color='red')\n",
    "        plt.text(x+0.9, y+0.9, name, fontsize=9)\n",
    "    plt.xlabel(\"Points\") \n",
    "    plt.ylabel(\"Tickets\")\n",
    "    plt.show()\n",
    "    \n",
    "def plot_distribution(dictionary):\n",
    "    keys = list(dictionary.keys())\n",
    "    values = list(dictionary.values())\n",
    "    \n",
    "    fig = plt.figure(figsize = (12, 5)) \n",
    "    \n",
    "    plt.bar(keys, values,  \n",
    "        width = 0.4)\n",
    "    \n",
    "    plt.xlabel(\"Contestants\") \n",
    "    plt.ylabel(\"Wins\") \n",
    "    plt.title(\"Number of wins\") \n",
    "    plt.show() \n",
    "    \n",
    "def choose_winner(names, tickets, seed=None):\n",
    "    if seed != None:\n",
    "        np.random.seed(seed)\n",
    "    n_participants = len(names)\n",
    "    total_tickets= np.sum(tickets)\n",
    "    ticket_probability_distribution = [x / total_tickets for x in tickets]\n",
    "    \n",
    "    winner_index = np.random.choice(np.arange(0, n_participants), p=ticket_probability_distribution)\n",
    "    winner = names[winner_index]\n",
    "    return winner, winner_index\n",
    "    \n",
    "def get_win_distribution(names, tickets, draws=1000):\n",
    "    winner_list = []\n",
    "    for i in range(draws):\n",
    "        winner, winner_index = choose_winner(names, tickets)\n",
    "        winner_list.append(winner_index)\n",
    "    number_of_wins = {first_names[i]:winner_list.count(i) for i in winner_list}\n",
    "    number_of_wins = {k: v for k, v in sorted(number_of_wins.items(), key=lambda item: item[1])}\n",
    "    return number_of_wins"
   ]
  },
  {
   "cell_type": "markdown",
   "metadata": {},
   "source": [
    "# Select winner for month"
   ]
  },
  {
   "cell_type": "code",
   "execution_count": 125,
   "metadata": {},
   "outputs": [],
   "source": [
    "# Enter month name and index\n",
    "month = 'march'\n",
    "month_index = 2\n",
    "seed = 42069"
   ]
  },
  {
   "cell_type": "code",
   "execution_count": 126,
   "metadata": {},
   "outputs": [],
   "source": [
    "# Fetch names and points for the given month index. Remove all non participants (those with 0 points for the month)\n",
    "names = list(dataframe.head())[1:]\n",
    "\n",
    "month_row = dataframe.loc[month_index]\n",
    "raw_points = list(month_row.values[1:])\n",
    "raw_points = [float(i.replace(',','.')) if isinstance(i, str) else float(i) for i in raw_points]\n",
    "\n",
    "names_temp = copy.deepcopy(names)\n",
    "raw_points_temp = copy.deepcopy(raw_points)\n",
    "\n",
    "for name, points in zip(names_temp, raw_points_temp):\n",
    "    if points == 0:\n",
    "        names.remove(name)\n",
    "        raw_points.remove(points)\n",
    "    \n",
    "\n",
    "first_names = [name.split(' ', 1)[0] for name in names]"
   ]
  },
  {
   "cell_type": "code",
   "execution_count": 127,
   "metadata": {},
   "outputs": [
    {
     "name": "stdout",
     "output_type": "stream",
     "text": [
      "Points:\n",
      "[321.5, 99.0, 104.0, 156.0, 7.0, 147.5, 106.0, 49.5, 118.0, 117.0, 85.0, 83.0, 29.0, 22.0]\n",
      "Tickets:\n",
      "[250.7, 199.6, 201.7, 219.3, 84.5, 216.9, 202.5, 169.5, 207.2, 206.8, 192.9, 191.9, 146.2, 134.2]\n"
     ]
    },
    {
     "data": {
      "image/png": "[encoded data removed]",
      "text/plain": [
       "<Figure size 432x288 with 1 Axes>"
      ]
     },
     "metadata": {
      "needs_background": "light"
     },
     "output_type": "display_data"
    }
   ],
   "source": [
    "tickets = scale_all_points(raw_points)\n",
    "print(\"Points:\")\n",
    "print(raw_points)\n",
    "print('Tickets:')\n",
    "print(tickets)\n",
    "\n",
    "plot_tickets_and_points(first_names, raw_points, tickets)"
   ]
  },
  {
   "cell_type": "markdown",
   "metadata": {},
   "source": [
    "## Winner distribution with 1 point = 1 ticket (100 000 draws)"
   ]
  },
  {
   "cell_type": "code",
   "execution_count": 131,
   "metadata": {},
   "outputs": [
    {
     "data": {
      "image/png": "[encoded data removed]",
      "text/plain": [
       "<Figure size 864x360 with 1 Axes>"
      ]
     },
     "metadata": {
      "needs_background": "light"
     },
     "output_type": "display_data"
    }
   ],
   "source": [
    "raw_win_distribution = get_win_distribution(names, raw_points, draws=100000)\n",
    "plot_distribution(raw_win_distribution)"
   ]
  },
  {
   "cell_type": "markdown",
   "metadata": {},
   "source": [
    "## Winner distribution with scaled tickets (100 000 draws)"
   ]
  },
  {
   "cell_type": "code",
   "execution_count": 132,
   "metadata": {},
   "outputs": [
    {
     "data": {
      "image/png": "[encoded data removed]",
      "text/plain": [
       "<Figure size 864x360 with 1 Axes>"
      ]
     },
     "metadata": {
      "needs_background": "light"
     },
     "output_type": "display_data"
    }
   ],
   "source": [
    "scaled_win_distribution = get_win_distribution(names, tickets, draws=100000)\n",
    "plot_distribution(scaled_win_distribution)"
   ]
  },
  {
   "cell_type": "markdown",
   "metadata": {},
   "source": [
    "## Pick Winner"
   ]
  },
  {
   "cell_type": "code",
   "execution_count": 130,
   "metadata": {},
   "outputs": [
    {
     "name": "stdout",
     "output_type": "stream",
     "text": [
      "The winner of march is Sondre Bolland\n"
     ]
    }
   ],
   "source": [
    "winner, winner_index =  choose_winner(names, tickets, seed=seed)\n",
    "print(f'The winner of {month} is {winner}')"
   ]
  },
  {
   "cell_type": "code",
   "execution_count": null,
   "metadata": {},
   "outputs": [],
   "source": []
  }
 ],
 "metadata": {
  "kernelspec": {
   "display_name": "Python 3",
   "language": "python",
   "name": "python3"
  },
  "language_info": {
   "codemirror_mode": {
    "name": "ipython",
    "version": 3
   },
   "file_extension": ".py",
   "mimetype": "text/x-python",
   "name": "python",
   "nbconvert_exporter": "python",
   "pygments_lexer": "ipython3",
   "version": "3.7.4"
  }
 },
 "nbformat": 4,
 "nbformat_minor": 2
}
