{
 "cells": [
  {
   "cell_type": "markdown",
   "metadata": {},
   "source": [
    "# Ticket Draw\n",
    "Lottery for Inkogvito training competition.\n",
    "\n",
    "Pick winner by a logarithmitically scaled probability distribution."
   ]
  },
  {
   "cell_type": "markdown",
   "metadata": {},
   "source": [
    "### Imports"
   ]
  },
  {
   "cell_type": "code",
   "execution_count": 57,
   "metadata": {},
   "outputs": [],
   "source": [
    "import pandas as pd\n",
    "import numpy as np\n",
    "import matplotlib.pyplot as plt\n",
    "import copy"
   ]
  },
  {
   "cell_type": "markdown",
   "metadata": {},
   "source": [
    "### Point distribution"
   ]
  },
  {
   "cell_type": "code",
   "execution_count": 58,
   "metadata": {},
   "outputs": [
    {
     "data": {
      "text/html": [
       "<div>\n",
       "<style scoped>\n",
       "    .dataframe tbody tr th:only-of-type {\n",
       "        vertical-align: middle;\n",
       "    }\n",
       "\n",
       "    .dataframe tbody tr th {\n",
       "        vertical-align: top;\n",
       "    }\n",
       "\n",
       "    .dataframe thead th {\n",
       "        text-align: right;\n",
       "    }\n",
       "</style>\n",
       "<table border=\"1\" class=\"dataframe\">\n",
       "  <thead>\n",
       "    <tr style=\"text-align: right;\">\n",
       "      <th></th>\n",
       "      <th>Unnamed: 0</th>\n",
       "      <th>Sondre Bolland</th>\n",
       "      <th>Rein Undheim</th>\n",
       "      <th>Thea Gjerde</th>\n",
       "      <th>Ragnhild Larsen</th>\n",
       "      <th>Henriette Rebnor</th>\n",
       "      <th>Beatrix Wu</th>\n",
       "      <th>Anton Nydal</th>\n",
       "      <th>Håkon Bleie</th>\n",
       "      <th>Oskar Jahr</th>\n",
       "      <th>Ingeborg Elly Skori-Holm</th>\n",
       "      <th>Sigurd Setså</th>\n",
       "      <th>Benjamin Øygarden</th>\n",
       "      <th>Bendik Micheeff</th>\n",
       "      <th>Vanessa Marie Haaland</th>\n",
       "      <th>Celine Langeland</th>\n",
       "      <th>Alexander Opdahl</th>\n",
       "      <th>Petter Paulsen</th>\n",
       "      <th>Anders Mikkelsen</th>\n",
       "      <th>Emma Bjørkås</th>\n",
       "    </tr>\n",
       "  </thead>\n",
       "  <tbody>\n",
       "    <tr>\n",
       "      <td>0</td>\n",
       "      <td>Januar</td>\n",
       "      <td>230</td>\n",
       "      <td>63</td>\n",
       "      <td>88</td>\n",
       "      <td>45,5</td>\n",
       "      <td>58</td>\n",
       "      <td>45,5</td>\n",
       "      <td>21</td>\n",
       "      <td>49</td>\n",
       "      <td>93</td>\n",
       "      <td>55</td>\n",
       "      <td>100</td>\n",
       "      <td>14</td>\n",
       "      <td>90</td>\n",
       "      <td>0</td>\n",
       "      <td>0</td>\n",
       "      <td>0</td>\n",
       "      <td>0</td>\n",
       "      <td>0</td>\n",
       "      <td>0</td>\n",
       "    </tr>\n",
       "    <tr>\n",
       "      <td>1</td>\n",
       "      <td>Feburar</td>\n",
       "      <td>255</td>\n",
       "      <td>14</td>\n",
       "      <td>71</td>\n",
       "      <td>71,5</td>\n",
       "      <td>30</td>\n",
       "      <td>151</td>\n",
       "      <td>0</td>\n",
       "      <td>4</td>\n",
       "      <td>60</td>\n",
       "      <td>125</td>\n",
       "      <td>81,5</td>\n",
       "      <td>20</td>\n",
       "      <td>0</td>\n",
       "      <td>50</td>\n",
       "      <td>38</td>\n",
       "      <td>0</td>\n",
       "      <td>0</td>\n",
       "      <td>0</td>\n",
       "      <td>0</td>\n",
       "    </tr>\n",
       "    <tr>\n",
       "      <td>2</td>\n",
       "      <td>Mars</td>\n",
       "      <td>321,5</td>\n",
       "      <td>0</td>\n",
       "      <td>99</td>\n",
       "      <td>104</td>\n",
       "      <td>0</td>\n",
       "      <td>156</td>\n",
       "      <td>0</td>\n",
       "      <td>0</td>\n",
       "      <td>7</td>\n",
       "      <td>147,5</td>\n",
       "      <td>106</td>\n",
       "      <td>49,5</td>\n",
       "      <td>117</td>\n",
       "      <td>117</td>\n",
       "      <td>0</td>\n",
       "      <td>85</td>\n",
       "      <td>83</td>\n",
       "      <td>29</td>\n",
       "      <td>22</td>\n",
       "    </tr>\n",
       "    <tr>\n",
       "      <td>3</td>\n",
       "      <td>April</td>\n",
       "      <td>43,5</td>\n",
       "      <td>0</td>\n",
       "      <td>100</td>\n",
       "      <td>65</td>\n",
       "      <td>0</td>\n",
       "      <td>147,5</td>\n",
       "      <td>0</td>\n",
       "      <td>0</td>\n",
       "      <td>0</td>\n",
       "      <td>154</td>\n",
       "      <td>82</td>\n",
       "      <td>26</td>\n",
       "      <td>96</td>\n",
       "      <td>28</td>\n",
       "      <td>0</td>\n",
       "      <td>0</td>\n",
       "      <td>0</td>\n",
       "      <td>168</td>\n",
       "      <td>0</td>\n",
       "    </tr>\n",
       "    <tr>\n",
       "      <td>4</td>\n",
       "      <td>Mai</td>\n",
       "      <td>0</td>\n",
       "      <td>0</td>\n",
       "      <td>86</td>\n",
       "      <td>45</td>\n",
       "      <td>0</td>\n",
       "      <td>76</td>\n",
       "      <td>0</td>\n",
       "      <td>0</td>\n",
       "      <td>0</td>\n",
       "      <td>89</td>\n",
       "      <td>123,5</td>\n",
       "      <td>0</td>\n",
       "      <td>61</td>\n",
       "      <td>76</td>\n",
       "      <td>0</td>\n",
       "      <td>0</td>\n",
       "      <td>0</td>\n",
       "      <td>228</td>\n",
       "      <td>0</td>\n",
       "    </tr>\n",
       "    <tr>\n",
       "      <td>5</td>\n",
       "      <td>Total</td>\n",
       "      <td>850</td>\n",
       "      <td>77</td>\n",
       "      <td>444</td>\n",
       "      <td>331</td>\n",
       "      <td>88</td>\n",
       "      <td>576</td>\n",
       "      <td>21</td>\n",
       "      <td>53</td>\n",
       "      <td>160</td>\n",
       "      <td>570,5</td>\n",
       "      <td>493</td>\n",
       "      <td>109,5</td>\n",
       "      <td>364</td>\n",
       "      <td>271</td>\n",
       "      <td>38</td>\n",
       "      <td>85</td>\n",
       "      <td>83</td>\n",
       "      <td>425</td>\n",
       "      <td>22</td>\n",
       "    </tr>\n",
       "  </tbody>\n",
       "</table>\n",
       "</div>"
      ],
      "text/plain": [
       "  Unnamed: 0 Sondre Bolland  Rein Undheim  Thea Gjerde Ragnhild Larsen  \\\n",
       "0     Januar            230            63           88            45,5   \n",
       "1    Feburar            255            14           71            71,5   \n",
       "2       Mars          321,5             0           99             104   \n",
       "3      April           43,5             0          100              65   \n",
       "4        Mai              0             0           86              45   \n",
       "5      Total            850            77          444             331   \n",
       "\n",
       "   Henriette Rebnor Beatrix Wu  Anton Nydal  Håkon Bleie  Oskar Jahr  \\\n",
       "0                58       45,5           21           49          93   \n",
       "1                30        151            0            4          60   \n",
       "2                 0        156            0            0           7   \n",
       "3                 0      147,5            0            0           0   \n",
       "4                 0         76            0            0           0   \n",
       "5                88        576           21           53         160   \n",
       "\n",
       "  Ingeborg Elly Skori-Holm Sigurd Setså Benjamin Øygarden  Bendik Micheeff  \\\n",
       "0                       55          100                14               90   \n",
       "1                      125         81,5                20                0   \n",
       "2                    147,5          106              49,5              117   \n",
       "3                      154           82                26               96   \n",
       "4                       89        123,5                 0               61   \n",
       "5                    570,5          493             109,5              364   \n",
       "\n",
       "   Vanessa Marie Haaland  Celine Langeland  Alexander Opdahl  Petter Paulsen  \\\n",
       "0                      0                 0                 0               0   \n",
       "1                     50                38                 0               0   \n",
       "2                    117                 0                85              83   \n",
       "3                     28                 0                 0               0   \n",
       "4                     76                 0                 0               0   \n",
       "5                    271                38                85              83   \n",
       "\n",
       "   Anders Mikkelsen  Emma Bjørkås  \n",
       "0                 0             0  \n",
       "1                 0             0  \n",
       "2                29            22  \n",
       "3               168             0  \n",
       "4               228             0  \n",
       "5               425            22  "
      ]
     },
     "execution_count": 58,
     "metadata": {},
     "output_type": "execute_result"
    }
   ],
   "source": [
    "dataframe = pd.read_csv('Poengfordeling.csv', delimiter=';')\n",
    "dataframe"
   ]
  },
  {
   "cell_type": "code",
   "execution_count": 59,
   "metadata": {},
   "outputs": [],
   "source": [
    "def scale_all_points(point_list):\n",
    "    ticket_list = []\n",
    "    for points in point_list:\n",
    "        scaled_points = scale_points(points)\n",
    "        ticket_list.append(scaled_points)\n",
    "    return ticket_list\n",
    "\n",
    "def scale_points(points):\n",
    "    '''\n",
    "    Calculates the number of tickets from number of points using a logarithmic scale\n",
    "    '''\n",
    "    tickets = log_func(points)\n",
    "    return tickets\n",
    "    \n",
    "def log_func(x):\n",
    "    return round(np.log10(x) * 100, 1)\n",
    "    \n",
    "def plot_tickets_and_points(name_list, point_list, ticket_list):\n",
    "    for i, name in enumerate(name_list):\n",
    "        x = point_list[i]\n",
    "        y = ticket_list[i]\n",
    "        plt.scatter(x, y, marker='x', color='red')\n",
    "        plt.text(x+0.9, y+0.9, name, fontsize=9)\n",
    "    plt.xlabel(\"Points\") \n",
    "    plt.ylabel(\"Tickets\")\n",
    "    plt.show()\n",
    "    \n",
    "def plot_distribution(dictionary):\n",
    "    keys = list(dictionary.keys())\n",
    "    values = list(dictionary.values())\n",
    "    \n",
    "    fig = plt.figure(figsize = (12, 5)) \n",
    "    \n",
    "    plt.bar(keys, values,  \n",
    "        width = 0.4)\n",
    "    \n",
    "    plt.xlabel(\"Contestants\") \n",
    "    plt.ylabel(\"Wins\") \n",
    "    plt.title(\"Number of wins\") \n",
    "    plt.show() \n",
    "    \n",
    "def choose_winner(names, tickets, seed=None):\n",
    "    if seed != None:\n",
    "        np.random.seed(seed)\n",
    "    n_participants = len(names)\n",
    "    total_tickets= np.sum(tickets)\n",
    "    ticket_probability_distribution = [x / total_tickets for x in tickets]\n",
    "    \n",
    "    winner_index = np.random.choice(np.arange(0, n_participants), p=ticket_probability_distribution)\n",
    "    winner = names[winner_index]\n",
    "    return winner, winner_index\n",
    "    \n",
    "def get_win_distribution(names, tickets, draws=1000):\n",
    "    winner_list = []\n",
    "    for i in range(draws):\n",
    "        winner, winner_index = choose_winner(names, tickets)\n",
    "        winner_list.append(winner_index)\n",
    "    number_of_wins = {first_names[i]:winner_list.count(i) for i in winner_list}\n",
    "    number_of_wins = {k: v for k, v in sorted(number_of_wins.items(), key=lambda item: item[1])}\n",
    "    return number_of_wins"
   ]
  },
  {
   "cell_type": "markdown",
   "metadata": {},
   "source": [
    "# Select winner for month"
   ]
  },
  {
   "cell_type": "code",
   "execution_count": 67,
   "metadata": {},
   "outputs": [],
   "source": [
    "# Enter month name and index\n",
    "month = 'the semester'\n",
    "month_index = 5\n",
    "seed = 3"
   ]
  },
  {
   "cell_type": "code",
   "execution_count": 68,
   "metadata": {},
   "outputs": [],
   "source": [
    "# Fetch names and points for the given month index. Remove all non participants (those with 0 points for the month)\n",
    "names = list(dataframe.head())[1:]\n",
    "\n",
    "month_row = dataframe.loc[month_index]\n",
    "raw_points = list(month_row.values[1:])\n",
    "raw_points = [float(i.replace(',','.')) if isinstance(i, str) else float(i) for i in raw_points]\n",
    "\n",
    "names_temp = copy.deepcopy(names)\n",
    "raw_points_temp = copy.deepcopy(raw_points)\n",
    "\n",
    "for name, points in zip(names_temp, raw_points_temp):\n",
    "    if points == 0:\n",
    "        names.remove(name)\n",
    "        raw_points.remove(points)\n",
    "    \n",
    "\n",
    "first_names = [name.split(' ', 1)[0] for name in names]"
   ]
  },
  {
   "cell_type": "code",
   "execution_count": 69,
   "metadata": {},
   "outputs": [
    {
     "name": "stdout",
     "output_type": "stream",
     "text": [
      "Points:\n",
      "[850.0, 77.0, 444.0, 331.0, 88.0, 576.0, 21.0, 53.0, 160.0, 570.5, 493.0, 109.5, 364.0, 271.0, 38.0, 85.0, 83.0, 425.0, 22.0]\n",
      "Tickets:\n",
      "[292.9, 188.6, 264.7, 252.0, 194.4, 276.0, 132.2, 172.4, 220.4, 275.6, 269.3, 203.9, 256.1, 243.3, 158.0, 192.9, 191.9, 262.8, 134.2]\n"
     ]
    },
    {
     "data": {
      "image/png": "[encoded data removed]",
      "text/plain": [
       "<Figure size 432x288 with 1 Axes>"
      ]
     },
     "metadata": {
      "needs_background": "light"
     },
     "output_type": "display_data"
    }
   ],
   "source": [
    "tickets = scale_all_points(raw_points)\n",
    "print(\"Points:\")\n",
    "print(raw_points)\n",
    "print('Tickets:')\n",
    "print(tickets)\n",
    "\n",
    "plot_tickets_and_points(first_names, raw_points, tickets)"
   ]
  },
  {
   "cell_type": "markdown",
   "metadata": {},
   "source": [
    "## Winner distribution with 1 point = 1 ticket (10 000 draws)"
   ]
  },
  {
   "cell_type": "code",
   "execution_count": 70,
   "metadata": {},
   "outputs": [
    {
     "data": {
      "image/png": "[encoded data removed]",
      "text/plain": [
       "<Figure size 864x360 with 1 Axes>"
      ]
     },
     "metadata": {
      "needs_background": "light"
     },
     "output_type": "display_data"
    }
   ],
   "source": [
    "raw_win_distribution = get_win_distribution(names, raw_points, draws=10000)\n",
    "plot_distribution(raw_win_distribution)"
   ]
  },
  {
   "cell_type": "markdown",
   "metadata": {},
   "source": [
    "## Winner distribution with scaled tickets (10 000 draws)"
   ]
  },
  {
   "cell_type": "code",
   "execution_count": 71,
   "metadata": {},
   "outputs": [
    {
     "data": {
      "image/png": "[encoded data removed]",
      "text/plain": [
       "<Figure size 864x360 with 1 Axes>"
      ]
     },
     "metadata": {
      "needs_background": "light"
     },
     "output_type": "display_data"
    }
   ],
   "source": [
    "scaled_win_distribution = get_win_distribution(names, tickets, draws=10000)\n",
    "plot_distribution(scaled_win_distribution)"
   ]
  },
  {
   "cell_type": "markdown",
   "metadata": {},
   "source": [
    "## Pick Winner"
   ]
  },
  {
   "cell_type": "code",
   "execution_count": 72,
   "metadata": {},
   "outputs": [
    {
     "name": "stdout",
     "output_type": "stream",
     "text": [
      "The winner of the semester is Sigurd Setså\n"
     ]
    }
   ],
   "source": [
    "winner, winner_index =  choose_winner(names, tickets, seed=seed)\n",
    "print(f'The winner of {month} is {winner}')"
   ]
  },
  {
   "cell_type": "code",
   "execution_count": null,
   "metadata": {},
   "outputs": [],
   "source": []
  }
 ],
 "metadata": {
  "kernelspec": {
   "display_name": "Python 3",
   "language": "python",
   "name": "python3"
  },
  "language_info": {
   "codemirror_mode": {
    "name": "ipython",
    "version": 3
   },
   "file_extension": ".py",
   "mimetype": "text/x-python",
   "name": "python",
   "nbconvert_exporter": "python",
   "pygments_lexer": "ipython3",
   "version": "3.7.4"
  }
 },
 "nbformat": 4,
 "nbformat_minor": 2
}
