{
 "cells": [
  {
   "cell_type": "markdown",
   "metadata": {},
   "source": [
    "# Ticket Draw\n",
    "Pick winner by a logarithmitically scaled probability distribution"
   ]
  },
  {
   "cell_type": "markdown",
   "metadata": {},
   "source": [
    "### Imports"
   ]
  },
  {
   "cell_type": "code",
   "execution_count": 1,
   "metadata": {},
   "outputs": [],
   "source": [
    "import pandas as pd\n",
    "import numpy as np\n",
    "import matplotlib.pyplot as plt"
   ]
  },
  {
   "cell_type": "markdown",
   "metadata": {},
   "source": [
    "### Point distribution"
   ]
  },
  {
   "cell_type": "code",
   "execution_count": 20,
   "metadata": {},
   "outputs": [
    {
     "data": {
      "text/html": [
       "<div>\n",
       "<style scoped>\n",
       "    .dataframe tbody tr th:only-of-type {\n",
       "        vertical-align: middle;\n",
       "    }\n",
       "\n",
       "    .dataframe tbody tr th {\n",
       "        vertical-align: top;\n",
       "    }\n",
       "\n",
       "    .dataframe thead th {\n",
       "        text-align: right;\n",
       "    }\n",
       "</style>\n",
       "<table border=\"1\" class=\"dataframe\">\n",
       "  <thead>\n",
       "    <tr style=\"text-align: right;\">\n",
       "      <th></th>\n",
       "      <th>Unnamed: 0</th>\n",
       "      <th>Sondre Bolland</th>\n",
       "      <th>Rein Undheim</th>\n",
       "      <th>Thea Gjerde</th>\n",
       "      <th>Ragnhild Larsen</th>\n",
       "      <th>Henriette Rebnor</th>\n",
       "      <th>Beatrix Wu</th>\n",
       "      <th>Anton Nydal</th>\n",
       "      <th>Håkon Bleie</th>\n",
       "      <th>Oskar Jahr</th>\n",
       "      <th>Ingeborg Elly Skori-Holm</th>\n",
       "      <th>Sigurd Setså</th>\n",
       "      <th>Benjamin Øygarden</th>\n",
       "      <th>Bendik Micheeff</th>\n",
       "      <th>Vanessa Marie Haaland</th>\n",
       "      <th>Celine Langeland</th>\n",
       "    </tr>\n",
       "  </thead>\n",
       "  <tbody>\n",
       "    <tr>\n",
       "      <td>0</td>\n",
       "      <td>Januar</td>\n",
       "      <td>230.0</td>\n",
       "      <td>63.0</td>\n",
       "      <td>88.0</td>\n",
       "      <td>45,5</td>\n",
       "      <td>58.0</td>\n",
       "      <td>45,5</td>\n",
       "      <td>21.0</td>\n",
       "      <td>49.0</td>\n",
       "      <td>93.0</td>\n",
       "      <td>55.0</td>\n",
       "      <td>100</td>\n",
       "      <td>14.0</td>\n",
       "      <td>90.0</td>\n",
       "      <td>0.0</td>\n",
       "      <td>0.0</td>\n",
       "    </tr>\n",
       "    <tr>\n",
       "      <td>1</td>\n",
       "      <td>Feburar</td>\n",
       "      <td>255.0</td>\n",
       "      <td>14.0</td>\n",
       "      <td>71.0</td>\n",
       "      <td>71,5</td>\n",
       "      <td>30.0</td>\n",
       "      <td>151</td>\n",
       "      <td>0.0</td>\n",
       "      <td>4.0</td>\n",
       "      <td>60.0</td>\n",
       "      <td>125.0</td>\n",
       "      <td>81,5</td>\n",
       "      <td>20.0</td>\n",
       "      <td>0.0</td>\n",
       "      <td>50.0</td>\n",
       "      <td>38.0</td>\n",
       "    </tr>\n",
       "    <tr>\n",
       "      <td>2</td>\n",
       "      <td>Mars</td>\n",
       "      <td>NaN</td>\n",
       "      <td>NaN</td>\n",
       "      <td>NaN</td>\n",
       "      <td>NaN</td>\n",
       "      <td>NaN</td>\n",
       "      <td>NaN</td>\n",
       "      <td>NaN</td>\n",
       "      <td>NaN</td>\n",
       "      <td>NaN</td>\n",
       "      <td>NaN</td>\n",
       "      <td>NaN</td>\n",
       "      <td>NaN</td>\n",
       "      <td>NaN</td>\n",
       "      <td>NaN</td>\n",
       "      <td>NaN</td>\n",
       "    </tr>\n",
       "    <tr>\n",
       "      <td>3</td>\n",
       "      <td>April</td>\n",
       "      <td>NaN</td>\n",
       "      <td>NaN</td>\n",
       "      <td>NaN</td>\n",
       "      <td>NaN</td>\n",
       "      <td>NaN</td>\n",
       "      <td>NaN</td>\n",
       "      <td>NaN</td>\n",
       "      <td>NaN</td>\n",
       "      <td>NaN</td>\n",
       "      <td>NaN</td>\n",
       "      <td>NaN</td>\n",
       "      <td>NaN</td>\n",
       "      <td>NaN</td>\n",
       "      <td>NaN</td>\n",
       "      <td>NaN</td>\n",
       "    </tr>\n",
       "    <tr>\n",
       "      <td>4</td>\n",
       "      <td>Mai</td>\n",
       "      <td>NaN</td>\n",
       "      <td>NaN</td>\n",
       "      <td>NaN</td>\n",
       "      <td>NaN</td>\n",
       "      <td>NaN</td>\n",
       "      <td>NaN</td>\n",
       "      <td>NaN</td>\n",
       "      <td>NaN</td>\n",
       "      <td>NaN</td>\n",
       "      <td>NaN</td>\n",
       "      <td>NaN</td>\n",
       "      <td>NaN</td>\n",
       "      <td>NaN</td>\n",
       "      <td>NaN</td>\n",
       "      <td>NaN</td>\n",
       "    </tr>\n",
       "    <tr>\n",
       "      <td>5</td>\n",
       "      <td>Total</td>\n",
       "      <td>485.0</td>\n",
       "      <td>77.0</td>\n",
       "      <td>159.0</td>\n",
       "      <td>117</td>\n",
       "      <td>88.0</td>\n",
       "      <td>196,5</td>\n",
       "      <td>21.0</td>\n",
       "      <td>53.0</td>\n",
       "      <td>153.0</td>\n",
       "      <td>180.0</td>\n",
       "      <td>181,5</td>\n",
       "      <td>34.0</td>\n",
       "      <td>90.0</td>\n",
       "      <td>50.0</td>\n",
       "      <td>38.0</td>\n",
       "    </tr>\n",
       "  </tbody>\n",
       "</table>\n",
       "</div>"
      ],
      "text/plain": [
       "  Unnamed: 0  Sondre Bolland  Rein Undheim  Thea Gjerde Ragnhild Larsen  \\\n",
       "0     Januar           230.0          63.0         88.0            45,5   \n",
       "1    Feburar           255.0          14.0         71.0            71,5   \n",
       "2       Mars             NaN           NaN          NaN             NaN   \n",
       "3      April             NaN           NaN          NaN             NaN   \n",
       "4        Mai             NaN           NaN          NaN             NaN   \n",
       "5      Total           485.0          77.0        159.0             117   \n",
       "\n",
       "   Henriette Rebnor Beatrix Wu  Anton Nydal  Håkon Bleie  Oskar Jahr  \\\n",
       "0              58.0       45,5         21.0         49.0        93.0   \n",
       "1              30.0        151          0.0          4.0        60.0   \n",
       "2               NaN        NaN          NaN          NaN         NaN   \n",
       "3               NaN        NaN          NaN          NaN         NaN   \n",
       "4               NaN        NaN          NaN          NaN         NaN   \n",
       "5              88.0      196,5         21.0         53.0       153.0   \n",
       "\n",
       "   Ingeborg Elly Skori-Holm Sigurd Setså  Benjamin Øygarden  Bendik Micheeff  \\\n",
       "0                      55.0          100               14.0             90.0   \n",
       "1                     125.0         81,5               20.0              0.0   \n",
       "2                       NaN          NaN                NaN              NaN   \n",
       "3                       NaN          NaN                NaN              NaN   \n",
       "4                       NaN          NaN                NaN              NaN   \n",
       "5                     180.0        181,5               34.0             90.0   \n",
       "\n",
       "   Vanessa Marie Haaland  Celine Langeland  \n",
       "0                    0.0               0.0  \n",
       "1                   50.0              38.0  \n",
       "2                    NaN               NaN  \n",
       "3                    NaN               NaN  \n",
       "4                    NaN               NaN  \n",
       "5                   50.0              38.0  "
      ]
     },
     "execution_count": 20,
     "metadata": {},
     "output_type": "execute_result"
    }
   ],
   "source": [
    "dataframe = pd.read_csv('Poengfordeling.csv', delimiter=';')\n",
    "dataframe"
   ]
  },
  {
   "cell_type": "code",
   "execution_count": 184,
   "metadata": {},
   "outputs": [],
   "source": [
    "def scale_all_points(point_list):\n",
    "    ticket_list = []\n",
    "    for points in point_list:\n",
    "        scaled_points = scale_points(points)\n",
    "        ticket_list.append(scaled_points)\n",
    "    return ticket_list\n",
    "\n",
    "def scale_points(points):\n",
    "    '''\n",
    "    Calculates the number of tickets from number of points using a logarithmic scale\n",
    "    '''\n",
    "    tickets = log_func(points)\n",
    "    return tickets\n",
    "    \n",
    "def log_func(x):\n",
    "    return np.log10(x) * 100\n",
    "    \n",
    "def plot_tickets_and_points(name_list, point_list, ticket_list):\n",
    "    x = np.arange(0, 300)\n",
    "    y = log_func(x)\n",
    "\n",
    "    #plt.scatter(point_list, ticket_list, label= \"tickets\", color= \"green\",  \n",
    "            #marker= \"*\", s=30)\n",
    "    for i, name in enumerate(name_list):\n",
    "        x = point_list[i]\n",
    "        y = ticket_list[i]\n",
    "        plt.scatter(x, y, marker='x', color='red')\n",
    "        plt.text(x+0.9, y+0.9, name, fontsize=9)\n",
    "    plt.xlabel(\"Points\") \n",
    "    plt.ylabel(\"Tickets\")\n",
    "    plt.show()\n",
    "    \n",
    "def plot_winner_count(dictionary):\n",
    "    keys = list(dictionary.keys())\n",
    "    values = list(dictionary.values())\n",
    "    \n",
    "    fig = plt.figure(figsize = (12, 5)) \n",
    "    \n",
    "    plt.bar(keys, values,  \n",
    "        width = 0.4)\n",
    "    \n",
    "    plt.xlabel(\"Contestants\") \n",
    "    plt.ylabel(\"Wins\") \n",
    "    plt.title(\"Number of wins\") \n",
    "    plt.show() "
   ]
  },
  {
   "cell_type": "markdown",
   "metadata": {},
   "source": [
    "## February"
   ]
  },
  {
   "cell_type": "code",
   "execution_count": 162,
   "metadata": {},
   "outputs": [
    {
     "name": "stdout",
     "output_type": "stream",
     "text": [
      "['Sondre', 'Rein', 'Thea', 'Ragnhild', 'Henriette', 'Beatrix', 'Håkon', 'Oskar', 'Ingeborg', 'Sigurd', 'Benjamin', 'Vanessa', 'Celine']\n",
      "['Sondre Bolland', 'Rein Undheim', 'Thea Gjerde', 'Ragnhild Larsen', 'Henriette Rebnor', 'Beatrix Wu', 'Håkon Bleie', 'Oskar Jahr', 'Ingeborg Elly Skori-Holm', 'Sigurd Setså', 'Benjamin Øygarden', 'Vanessa Marie Haaland', 'Celine Langeland']\n",
      "[255.0, 14.0, 71.0, 71.5, 30.0, 151.0, 4.0, 60.0, 125.0, 81.5, 20.0, 50.0, 38.0]\n"
     ]
    }
   ],
   "source": [
    "names = list(dataframe.head())[1:]\n",
    "\n",
    "february_row = dataframe.loc[1]\n",
    "february_points = list(february_row.values[1:])\n",
    "february_points = [float(i.replace(',','.')) if isinstance(i, str) else float(i) for i in february_points]\n",
    "\n",
    "for name, points in zip(names, february_points):\n",
    "    if points == 0:\n",
    "        names.remove(name)\n",
    "        february_points.remove(points)\n",
    "\n",
    "first_names = [name.split(' ', 1)[0] for name in names]\n",
    "print(first_names)\n",
    "print(names)\n",
    "print(february_points)"
   ]
  },
  {
   "cell_type": "markdown",
   "metadata": {},
   "source": [
    "### Tickets from scaled points"
   ]
  },
  {
   "cell_type": "code",
   "execution_count": 185,
   "metadata": {},
   "outputs": [
    {
     "name": "stdout",
     "output_type": "stream",
     "text": [
      "Tickets:\n",
      "[240.6540180433955, 114.61280356782379, 185.12583487190753, 185.43060418010805, 147.71212547196623, 217.89769472931692, 60.20599913279624, 177.81512503836436, 209.69100130080562, 191.11576087399766, 130.10299956639813, 169.89700043360187, 157.978359661681]\n"
     ]
    },
    {
     "name": "stderr",
     "output_type": "stream",
     "text": [
      "c:\\users\\sondr\\appdata\\local\\programs\\python\\python37\\lib\\site-packages\\ipykernel_launcher.py:16: RuntimeWarning: divide by zero encountered in log10\n",
      "  app.launch_new_instance()\n"
     ]
    },
    {
     "data": {
      "image/png": "[encoded data removed]",
      "text/plain": [
       "<Figure size 432x288 with 1 Axes>"
      ]
     },
     "metadata": {
      "needs_background": "light"
     },
     "output_type": "display_data"
    }
   ],
   "source": [
    "february_tickets = scale_all_points(february_points)\n",
    "print('Tickets:')\n",
    "print(february_tickets)\n",
    "\n",
    "plot_tickets_and_points(first_names, february_points, february_tickets)"
   ]
  },
  {
   "cell_type": "markdown",
   "metadata": {},
   "source": [
    "### Winner distribution after 10 000 draws"
   ]
  },
  {
   "cell_type": "code",
   "execution_count": 174,
   "metadata": {},
   "outputs": [],
   "source": [
    "def choose_winner(names, ticket_list, seed=None):\n",
    "    if seed != None:\n",
    "        np.random.seed(seed)\n",
    "    n_participants = len(names)\n",
    "    total_tickets= np.sum(ticket_list)\n",
    "    ticket_probability_distribution = [x / total_tickets for x in ticket_list]\n",
    "    #print('\\nTicket probability distribution:')\n",
    "    #print(february_probability_distribution)\n",
    "    \n",
    "    winner_index = np.random.choice(np.arange(0, n_participants), p=ticket_probability_distribution)\n",
    "    winner = names[winner_index]\n",
    "    return winner, winner_index"
   ]
  },
  {
   "cell_type": "code",
   "execution_count": 177,
   "metadata": {},
   "outputs": [],
   "source": [
    "winner_list = []\n",
    "for i in range(10000):\n",
    "    winner, winner_index = choose_winner(names, february_tickets)\n",
    "    winner_list.append(winner_index)\n",
    "number_of_wins = {first_names[i]:winner_list.count(i) for i in winner_list}\n",
    "number_of_wins = {k: v for k, v in sorted(number_of_wins.items(), key=lambda item: item[1])}"
   ]
  },
  {
   "cell_type": "code",
   "execution_count": 183,
   "metadata": {},
   "outputs": [
    {
     "data": {
      "image/png": "[encoded data removed]",
      "text/plain": [
       "<Figure size 864x360 with 1 Axes>"
      ]
     },
     "metadata": {
      "needs_background": "light"
     },
     "output_type": "display_data"
    }
   ],
   "source": [
    "plot_winner_count(number_of_wins)"
   ]
  },
  {
   "cell_type": "code",
   "execution_count": 186,
   "metadata": {},
   "outputs": [
    {
     "name": "stdout",
     "output_type": "stream",
     "text": [
      "The winner of february is Ragnhild Larsen\n"
     ]
    }
   ],
   "source": [
    "winner, winner_index =  choose_winner(names, february_tickets, seed=69)\n",
    "print(f'The winner of february is {winner}')"
   ]
  }
 ],
 "metadata": {
  "kernelspec": {
   "display_name": "Python 3",
   "language": "python",
   "name": "python3"
  },
  "language_info": {
   "codemirror_mode": {
    "name": "ipython",
    "version": 3
   },
   "file_extension": ".py",
   "mimetype": "text/x-python",
   "name": "python",
   "nbconvert_exporter": "python",
   "pygments_lexer": "ipython3",
   "version": "3.7.4"
  }
 },
 "nbformat": 4,
 "nbformat_minor": 2
}
